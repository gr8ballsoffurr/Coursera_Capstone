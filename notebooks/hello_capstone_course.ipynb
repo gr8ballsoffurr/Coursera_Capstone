{
  "nbformat": 4,
  "nbformat_minor": 0,
  "metadata": {
    "colab": {
      "name": "hello_capstone_course.ipynb",
      "provenance": [],
      "collapsed_sections": []
    },
    "kernelspec": {
      "name": "python3",
      "display_name": "Python 3"
    }
  },
  "cells": [
    {
      "cell_type": "markdown",
      "metadata": {
        "id": "UhVHs_1W2tu9"
      },
      "source": [
        "This notebook will be mainly used for the Applied Data Science Specialization Capstone project."
      ]
    },
    {
      "cell_type": "code",
      "metadata": {
        "id": "pvgVKG5s2g9L"
      },
      "source": [
        "# This notebook will be mainly used for the\n",
        "# Applied Data Science Specialization Capstone project\n",
        "\n",
        "import pandas as pd\n",
        "import numpy as np"
      ],
      "execution_count": 1,
      "outputs": []
    },
    {
      "cell_type": "code",
      "metadata": {
        "id": "7u1cAj6Y2rT7"
      },
      "source": [
        "print(\"Hello Capstone Project Course!\")"
      ],
      "execution_count": null,
      "outputs": []
    }
  ]
}
